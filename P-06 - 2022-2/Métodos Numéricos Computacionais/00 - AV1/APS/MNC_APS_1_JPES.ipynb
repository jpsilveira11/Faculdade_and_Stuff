{
  "nbformat": 4,
  "nbformat_minor": 0,
  "metadata": {
    "kernelspec": {
      "display_name": "Python 3",
      "language": "python",
      "name": "python3"
    },
    "language_info": {
      "codemirror_mode": {
        "name": "ipython",
        "version": 3
      },
      "file_extension": ".py",
      "mimetype": "text/x-python",
      "name": "python",
      "nbconvert_exporter": "python",
      "pygments_lexer": "ipython3",
      "version": "3.6.2"
    },
    "colab": {
      "provenance": [],
      "collapsed_sections": []
    }
  },
  "cells": [
    {
      "cell_type": "markdown",
      "metadata": {
        "id": "0xyZxEqyuPxZ"
      },
      "source": [
        "<center><h1> Métodos Numéricos Computacionais - APS-AV1 - 2022.2 </h1></center><p>\n",
        "\n",
        "\n",
        "---\n",
        "\n",
        "* Aluno: João Pedro Espechit Silveira - 2019200901\n",
        "* Professor: Sérgio Assunção Monteiro\n",
        "* Turma: 145R<p>\n",
        "<font face=\"courier new\" size=\"-1\"><center><b>O código também pode ser visualizado na íntegra por meio</b><center><a href=\"https://colab.research.google.com/drive/182lpuHC0oipBpRKrRKmg8tA_tAUUADp0?usp=sharing\">DESTE LINK</a></font>\n",
        "<h1><center>Atividade</center></h1><p>\n",
        "---"
      ]
    },
    {
      "cell_type": "markdown",
      "source": [
        "# Questão 1\n",
        "Dada a equação <b>f(x) = x<sup>4</sup> - x<sup>3</sup> - x<sup>2</sup> + x + 8 = 0<b>, obtenha o valor\n",
        "aproximado da raiz. Utilizando o método da bissecção no intervalo [-2,5; 2,5] com precisão 1E-06."
      ],
      "metadata": {
        "id": "dLrVO4WYIdrd"
      }
    },
    {
      "cell_type": "code",
      "source": [
        "#import numpy as np"
      ],
      "metadata": {
        "id": "zWq0gx2ffwUF"
      },
      "execution_count": null,
      "outputs": []
    },
    {
      "cell_type": "code",
      "metadata": {
        "id": "m1tbVgz1uPxc"
      },
      "source": [
        "def bissec(f, a, b, epsilon, maxIter = 50):\n",
        " \n",
        "    Fa = f(a)\n",
        "    Fb = f(b)\n",
        "    \n",
        " \n",
        "    if(Fa*Fb>0):\n",
        "      print(\"Erro! A função não muda de sinal.\")\n",
        "      return (True, None)\n",
        "    \n",
        "    print(\"k\\t  a\\t\\t  fa\\t\\t  b\\t\\t  fb\\t\\t  x\\t\\t  fx\\t\\tintervX\")\n",
        "    \n",
        "    intervX = abs(b-a)\n",
        "    x = (a+b)/2\n",
        "    Fx = f(x)\n",
        "    \n",
        "    print(\"-\\t%e\\t%e\\t%e\\t%e\\t%e\\t%e\\t%e\" % (a, Fa, b, Fb, x, Fx, intervX))\n",
        "    \n",
        "    if(intervX<=epsilon):\n",
        "      return(False,x)\n",
        "    \n",
        "    k=1\n",
        "    \n",
        "    while k <= maxIter:\n",
        "      if Fa*Fx>0:\n",
        "        a=x\n",
        "        Fa=Fx\n",
        "      else:\n",
        "        b=x\n",
        "        Fb=Fx\n",
        "      intervX = abs(b-a)\n",
        "      x = (a+b)/2\n",
        "      Fx = f(x)\n",
        "        \n",
        "      print(\"%d\\t%e\\t%e\\t%e\\t%e\\t%e\\t%e\\t%e\"%(k, a, Fa, b, Fb, x, Fx, intervX))\n",
        "                \n",
        "      if(intervX<=epsilon):\n",
        "        return(False,x)\n",
        "        \n",
        "      k = k+1\n",
        "      \n",
        "    print(\"ERRO! número máximo de iterações atingido.\")\n",
        "    return(True, x)"
      ],
      "execution_count": null,
      "outputs": []
    },
    {
      "cell_type": "code",
      "metadata": {
        "id": "q6JUwafiuPxi"
      },
      "source": [
        "def f(x):\n",
        "    #return x**3 - 9*x + 3\n",
        "    return x**4 - x**3 - x**2 + x + 8\n",
        "    #return x**4 -  x**3 - x**2 + x\n",
        "    #return np.log10(x)*x - 1"
      ],
      "execution_count": null,
      "outputs": []
    },
    {
      "cell_type": "code",
      "metadata": {
        "id": "7jdXIz0EuPxn",
        "colab": {
          "base_uri": "https://localhost:8080/"
        },
        "outputId": "1d0b62ad-9da4-4b62-b9b1-d1e417fa13ef"
      },
      "source": [
        "#test\n",
        "print(f(1))"
      ],
      "execution_count": null,
      "outputs": [
        {
          "output_type": "stream",
          "name": "stdout",
          "text": [
            "1\n"
          ]
        }
      ]
    },
    {
      "cell_type": "code",
      "metadata": {
        "id": "P2t2yYqeuPxs"
      },
      "source": [
        "a = -2.5\n",
        "b = 2.5\n",
        "#epsilon = 0.001\n",
        "epsilon = 1e-06\n",
        "maxIter = 100"
      ],
      "execution_count": null,
      "outputs": []
    },
    {
      "cell_type": "code",
      "metadata": {
        "id": "kUhscUtCuPxx",
        "colab": {
          "base_uri": "https://localhost:8080/"
        },
        "outputId": "634fde8d-24c6-4e9a-8c25-86b70d43b5bf"
      },
      "source": [
        "(checkError, result) = bissec(f, a, b, epsilon, maxIter)"
      ],
      "execution_count": null,
      "outputs": [
        {
          "output_type": "stream",
          "name": "stdout",
          "text": [
            "Erro! A função não muda de sinal.\n"
          ]
        }
      ]
    },
    {
      "cell_type": "code",
      "metadata": {
        "id": "E-3X4dmOuPx2",
        "colab": {
          "base_uri": "https://localhost:8080/"
        },
        "outputId": "9c3b142d-0c60-49c7-df50-03b4ba321c8d"
      },
      "source": [
        "if checkError:\n",
        "    print(\"O Método da Bisseção retornou um erro.\")\n",
        "if result is not None:\n",
        "    print(\"Raiz encontrada: %s\" % result)"
      ],
      "execution_count": null,
      "outputs": [
        {
          "output_type": "stream",
          "name": "stdout",
          "text": [
            "O Método da Bisseção retornou um erro.\n"
          ]
        }
      ]
    },
    {
      "cell_type": "markdown",
      "source": [
        "<h1><center>Resposta</center></h1><p>\n",
        "\n",
        "---\n",
        "\n",
        "Como a função não corta o ponto 0 no eixo y, como demonstrado no gráfico abaixo.<p> \n",
        "Sendo assim, impossível tirar suas raízes pelo método da bissecção. "
      ],
      "metadata": {
        "id": "fc6_3b0B-gHs"
      }
    },
    {
      "cell_type": "code",
      "source": [
        "import matplotlib.pyplot as plt\n",
        "x = np.linspace(-2.5,2.5)\n",
        "plt.figure(dpi=70,figsize=(8,6))\n",
        "plt.title(\"Função f(x)=x^4 - x^3 - x^2 + x + 8\")\n",
        "plt.grid()\n",
        "plt.vlines(x=0, ymin=-5, ymax=50)\n",
        "plt.hlines(y=0, xmin=-5, xmax=10)\n",
        "#plt.plot(x,f(x),'bo',x,f(x),'r-')\n",
        "plt.plot(x,f(x),\"b-\")\n",
        "plt.show()"
      ],
      "metadata": {
        "colab": {
          "base_uri": "https://localhost:8080/",
          "height": 380
        },
        "id": "PFpXOlcf_lxW",
        "outputId": "a566d8da-cff6-4802-9349-fad0052ce1bc"
      },
      "execution_count": 62,
      "outputs": [
        {
          "output_type": "display_data",
          "data": {
            "text/plain": [
              "<Figure size 560x420 with 1 Axes>"
            ],
            "image/png": "[encoded data removed]"
          },
          "metadata": {
            "needs_background": "light"
          }
        }
      ]
    },
    {
      "cell_type": "markdown",
      "source": [
        "# Questão 2\n",
        "\n",
        "Sejam x=[1; 3; 5; -6; 6] e sua aproximação x̄=[2; -4; 6; 8; -7]. Calcule o\n",
        "erro absoluto e o erro relativo (usar x como referência)"
      ],
      "metadata": {
        "id": "ovmFFcpAIX-H"
      }
    },
    {
      "cell_type": "code",
      "source": [
        "import numpy as np\n",
        "from numpy.linalg import norm \n",
        "#import math"
      ],
      "metadata": {
        "id": "Xt40ccbcwI6Z"
      },
      "execution_count": null,
      "outputs": []
    },
    {
      "cell_type": "code",
      "source": [
        "def Norm2(x,xLine):\n",
        "  counter=0\n",
        "  n2=0\n",
        "  if len(x)!=len(xLine):\n",
        "    print(\"Não é possível calcular a Norma 2. Arrays têm tamanhos diferentes\")\n",
        "    return None\n",
        "  for counter in range(len(x)):\n",
        "    n2=n2+(x[counter]-xLine[counter])\n",
        "    #print(n2)\n",
        "  #return(np.sqrt((x[0]-xLine[0]+x[1]-xLine[1]+x[2]-xLine[2]+x[3]-xLine[3]+x[4]-xLine[4])**2))\n",
        "  return np.sqrt(n2**2)"
      ],
      "metadata": {
        "id": "Xp_5Yfr0uepi"
      },
      "execution_count": null,
      "outputs": []
    },
    {
      "cell_type": "code",
      "source": [
        "def Norm(x):\n",
        "  counter=0\n",
        "  n=0\n",
        "  for counter in range(len(x)):\n",
        "    n=n+x[counter]\n",
        "    #print(n)\n",
        "  return np.sqrt(n**2)"
      ],
      "metadata": {
        "id": "25DC0VIHEgrV"
      },
      "execution_count": null,
      "outputs": []
    },
    {
      "cell_type": "code",
      "source": [
        "def rel_Error(norm2,norm):\n",
        "  return norm2/norm"
      ],
      "metadata": {
        "id": "dG4EcnoSxIgF"
      },
      "execution_count": null,
      "outputs": []
    },
    {
      "cell_type": "code",
      "source": [
        "def truncate(value,Range):\n",
        "    temp = str(value)\n",
        "    for counter in range(len(temp)):\n",
        "        if temp[counter] == '.':\n",
        "            try:\n",
        "                return float(temp[:counter+Range+1])\n",
        "            except:\n",
        "                return float(temp)      \n",
        "    return float(temp)"
      ],
      "metadata": {
        "id": "ciFFSOasYnot"
      },
      "execution_count": null,
      "outputs": []
    },
    {
      "cell_type": "code",
      "source": [
        "x=np.array((1,3,5,-6,6))\n",
        "xLine=np.array((2,-4,6,8,-7))\n",
        "print(f' x: {x}')\n",
        "print(f' ̅x: {xLine}')\n",
        "absError=np.sqrt(np.sum(np.square(x-xLine)))\n",
        "relError=np.sqrt(np.sum(np.square(x-xLine)))/norm(x)\n",
        "\n",
        "print(f'Erro absoluto: {absError}')\n",
        "print(f'Erro absoluto aproximado: {round(absError,2)}')\n",
        "print(f'Erro relativo: {relError}')\n",
        "print(f'Erro relativo aproximado: {round(relError,2)}')\n"
      ],
      "metadata": {
        "colab": {
          "base_uri": "https://localhost:8080/"
        },
        "id": "sLbDC_jDtV2W",
        "outputId": "c3ee219a-ce9e-4c1d-b51c-a8bd5a4b06b7"
      },
      "execution_count": null,
      "outputs": [
        {
          "output_type": "stream",
          "name": "stdout",
          "text": [
            " x: [ 1  3  5 -6  6]\n",
            " ̅x: [ 2 -4  6  8 -7]\n",
            "Erro absoluto: 20.396078054371138\n",
            "Erro absoluto aproximado: 20.4\n",
            "Erro relativo: 1.9717632888584062\n",
            "Erro relativo aproximado: 1.97\n"
          ]
        }
      ]
    },
    {
      "cell_type": "markdown",
      "source": [
        "<h1><center>Resposta</center></h1><p>\n",
        "\n",
        "---\n",
        "\n",
        "Após a execução dos cálculos, foi possível identificar os seguntes valores:<p>\n",
        "> Erro Absoluto: 20.396078054371138<p>\n",
        "  Erro Relativo: 1.9717632888584062<p>\n",
        "  Erro Relativo Arredondado: ≅20,40<p>\n",
        "  Erro Relativo Arredondado: ≅1,97"
      ],
      "metadata": {
        "id": "pLkj6F1VDHNX"
      }
    }
  ]
}